{
 "cells": [
  {
   "cell_type": "code",
   "execution_count": 1,
   "metadata": {},
   "outputs": [],
   "source": [
    "import requests\n",
    "import json\n",
    "import pickle\n",
    "import os  "
   ]
  },
  {
   "cell_type": "code",
   "execution_count": 2,
   "metadata": {},
   "outputs": [],
   "source": [
    "with open('settings.json') as f:\n",
    "    d = json.load(f)\n",
    "    id_playlist = d[\"id_playlist\"]\n",
    "    api_key = d[\"api_key\"]"
   ]
  },
  {
   "cell_type": "code",
   "execution_count": 3,
   "metadata": {},
   "outputs": [],
   "source": [
    "r = requests.get(\"https://www.googleapis.com/youtube/v3/playlistItems?part=snippet%2CcontentDetails&maxResults=25&playlistId=\" + id_playlist + \"&key=\" + api_key)\n",
    "tmp = json.loads(r.text)\n",
    "vlist = [x[\"contentDetails\"][\"videoId\"] for x in tmp[\"items\"]]\n",
    "while \"nextPageToken\" in tmp.keys():\n",
    "    token_next_page = tmp[\"nextPageToken\"]\n",
    "    r = requests.get(\"https://www.googleapis.com/youtube/v3/playlistItems?pageToken=\" + token_next_page + \"&part=snippet%2CcontentDetails&maxResults=25&playlistId=\" + id_playlist + \"&key=\" + api_key)\n",
    "    tmp = json.loads(r.text)\n",
    "    vlist.extend([x[\"contentDetails\"][\"videoId\"] for x in tmp[\"items\"]])"
   ]
  },
  {
   "cell_type": "code",
   "execution_count": 4,
   "metadata": {},
   "outputs": [],
   "source": [
    "if os.path.isfile('vlist.pickle'):\n",
    "    oldlist = pickle.load(open(\"vlist.pickle\", \"rb\"))\n",
    "else:\n",
    "    oldlist = []"
   ]
  },
  {
   "cell_type": "code",
   "execution_count": 5,
   "metadata": {},
   "outputs": [],
   "source": [
    "difflist = list(set(vlist).difference(set(oldlist)))\n",
    "vlist = list(set(vlist).union(set(oldlist)))"
   ]
  },
  {
   "cell_type": "code",
   "execution_count": 6,
   "metadata": {},
   "outputs": [
    {
     "name": "stdout",
     "output_type": "stream",
     "text": [
      "cd mp3 && youtube-dl --ignore-errors --skip-unavailable-fragments --no-overwrites --max-filesize 1g --extract-audio --audio-format \"mp3\" https://www.youtube.com/watch?v=iE-buimT8KQ\n"
     ]
    }
   ],
   "source": [
    "if len(difflist) > 0:\n",
    "    for x in difflist:\n",
    "        exec_string = 'cd mp3 && youtube-dl --ignore-errors --skip-unavailable-fragments --no-overwrites --max-filesize 1g --extract-audio --audio-format \"mp3\" https://www.youtube.com/watch?v=' + x\n",
    "        print(exec_string)\n",
    "        os.system(exec_string)"
   ]
  },
  {
   "cell_type": "code",
   "execution_count": 145,
   "metadata": {},
   "outputs": [],
   "source": [
    "pickle.dump(vlist, open(\"vlist.pickle\", \"wb\"))"
   ]
  },
  {
   "cell_type": "code",
   "execution_count": null,
   "metadata": {},
   "outputs": [],
   "source": []
  }
 ],
 "metadata": {
  "kernelspec": {
   "display_name": "Python 3",
   "language": "python",
   "name": "python3"
  },
  "language_info": {
   "codemirror_mode": {
    "name": "ipython",
    "version": 3
   },
   "file_extension": ".py",
   "mimetype": "text/x-python",
   "name": "python",
   "nbconvert_exporter": "python",
   "pygments_lexer": "ipython3",
   "version": "3.7.3"
  }
 },
 "nbformat": 4,
 "nbformat_minor": 2
}
